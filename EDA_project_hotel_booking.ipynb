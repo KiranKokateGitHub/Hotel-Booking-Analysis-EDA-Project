{
  "nbformat": 4,
  "nbformat_minor": 0,
  "metadata": {
    "colab": {
      "private_outputs": true,
      "provenance": [],
      "collapsed_sections": [
        "gIfDvo9L0UH2"
      ],
      "include_colab_link": true
    },
    "kernelspec": {
      "name": "python3",
      "display_name": "Python 3"
    },
    "language_info": {
      "name": "python"
    }
  },
  "cells": [
    {
      "cell_type": "markdown",
      "metadata": {
        "id": "view-in-github",
        "colab_type": "text"
      },
      "source": [
        "<a href=\"https://colab.research.google.com/github/kirankokateGitHub/Hotel-Booking-Analysis-EDA-Project/blob/main/EDA_project_hotel_booking.ipynb\" target=\"_parent\"><img src=\"https://colab.research.google.com/assets/colab-badge.svg\" alt=\"Open In Colab\"/></a>"
      ]
    },
    {
      "cell_type": "markdown",
      "source": [
        "# **Project Name**    -\n",
        "\n"
      ],
      "metadata": {
        "id": "vncDsAP0Gaoa"
      }
    },
    {
      "cell_type": "markdown",
      "source": [
        "\n",
        "\n",
        "```\n",
        "# This is formatted as code\n",
        "```\n",
        "\n",
        "Hotel booking Analysis\n"
      ],
      "metadata": {
        "id": "0gUTxgGlkWAY"
      }
    },
    {
      "cell_type": "markdown",
      "source": [
        "##### **Project Type**    - EDA\n",
        "##### **Contribution**    - Individual\n",
        "##### **Team Member 1 -** Kiran Kokate\n",
        "##### **Team Member 2 -**\n",
        "##### **Team Member 3 -**\n",
        "##### **Team Member 4 -**"
      ],
      "metadata": {
        "id": "beRrZCGUAJYm"
      }
    },
    {
      "cell_type": "markdown",
      "source": [],
      "metadata": {
        "id": "DLFtBWepkTH5"
      }
    },
    {
      "cell_type": "markdown",
      "source": [
        "# **Project Summary -**"
      ],
      "metadata": {
        "id": "FJNUwmbgGyua"
      }
    },
    {
      "cell_type": "markdown",
      "source": [
        "this project is about hotel booking analysis. we have to camare two hotels os which dataset we have been provided. one hotel is city hotel and second one is resort hotel. dataset contains about 119390 rows and 32 columns. for this analysis we will divid e the worekflow in three cTEGORY DATA collection and, data cleaning and exploratory data analysis. to make this analyasis we have to use different tools affiliated to python for data collection , cleaning, visualisation and to draw meaning full insights. by analysing the data set of this two hotels we may conclude for which hitel there is more drive according to seadon of the year, we may finnd to which hotel people visit more, more frequently. Which hotel has reasonable/ fair rate. For wich hotel there may be more cancellation observed after booking. What is the successful booking accommodation rate. From where people visit most frequent time.\n",
        "\n"
      ],
      "metadata": {
        "id": "F6v_1wHtG2nS"
      }
    },
    {
      "cell_type": "markdown",
      "source": [
        "# **GitHub Link -**"
      ],
      "metadata": {
        "id": "w6K7xa23Elo4"
      }
    },
    {
      "cell_type": "markdown",
      "source": [
        "Provide your GitHub Link here."
      ],
      "metadata": {
        "id": "h1o69JH3Eqqn"
      }
    },
    {
      "cell_type": "markdown",
      "source": [
        "# **Problem Statement**\n"
      ],
      "metadata": {
        "id": "yQaldy8SH6Dl"
      }
    },
    {
      "cell_type": "markdown",
      "source": [
        "Have you ever wondered when the best time of year to book a hotel room is? Or the optimal length of stay in order to get the best daily rate? What if you wanted to predict whether or not a hotel was likely to receive a disproportionately high number of special requests? This hotel booking dataset can help you explore those questions! This data set contains booking information for a city hotel and a resort hotel, and includes information such as when the booking was made, length of stay, the number of adults, children, and/or babies, and the number of available parking spaces, among other things. All personally identifying information has been removed from the data. Explore and analyse the data to discover important factors that govern the bookings."
      ],
      "metadata": {
        "id": "DpeJGUA3kjGy"
      }
    },
    {
      "cell_type": "markdown",
      "source": [
        "#### **Define Your Business Objective?**"
      ],
      "metadata": {
        "id": "PH-0ReGfmX4f"
      }
    },
    {
      "cell_type": "markdown",
      "source": [
        "Answer Here."
      ],
      "metadata": {
        "id": "PhDvGCAqmjP1"
      }
    },
    {
      "cell_type": "markdown",
      "source": [
        "# **General Guidelines** : -  "
      ],
      "metadata": {
        "id": "mDgbUHAGgjLW"
      }
    },
    {
      "cell_type": "markdown",
      "source": [
        "1.   Well-structured, formatted, and commented code is required.\n",
        "2.   Exception Handling, Production Grade Code & Deployment Ready Code will be a plus. Those students will be awarded some additional credits.\n",
        "     \n",
        "     The additional credits will have advantages over other students during Star Student selection.\n",
        "       \n",
        "             [ Note: - Deployment Ready Code is defined as, the whole .ipynb notebook should be executable in one go\n",
        "                       without a single error logged. ]\n",
        "\n",
        "3.   Each and every logic should have proper comments.\n",
        "4. You may add as many number of charts you want. Make Sure for each and every chart the following format should be answered.\n",
        "        \n",
        "\n",
        "```\n",
        "# Chart visualization code\n",
        "```\n",
        "            \n",
        "\n",
        "*   Why did you pick the specific chart?\n",
        "*   What is/are the insight(s) found from the chart?\n",
        "* Will the gained insights help creating a positive business impact?\n",
        "Are there any insights that lead to negative growth? Justify with specific reason.\n",
        "\n",
        "5. You have to create at least 20 logical & meaningful charts having important insights.\n",
        "\n",
        "\n",
        "[ Hints : - Do the Vizualization in  a structured way while following \"UBM\" Rule.\n",
        "\n",
        "U - Univariate Analysis,\n",
        "\n",
        "B - Bivariate Analysis (Numerical - Categorical, Numerical - Numerical, Categorical - Categorical)\n",
        "\n",
        "M - Multivariate Analysis\n",
        " ]\n",
        "\n",
        "\n",
        "\n"
      ],
      "metadata": {
        "id": "ZrxVaUj-hHfC"
      }
    },
    {
      "cell_type": "markdown",
      "source": [
        "# ***Let's Begin !***"
      ],
      "metadata": {
        "id": "O_i_v8NEhb9l"
      }
    },
    {
      "cell_type": "markdown",
      "source": [
        "## ***1. Know Your Data***"
      ],
      "metadata": {
        "id": "HhfV-JJviCcP"
      }
    },
    {
      "cell_type": "markdown",
      "source": [
        "### Import Libraries"
      ],
      "metadata": {
        "id": "Y3lxredqlCYt"
      }
    },
    {
      "cell_type": "code",
      "source": [],
      "metadata": {
        "id": "UfUkvKmeyNTk"
      },
      "execution_count": null,
      "outputs": []
    },
    {
      "cell_type": "code",
      "source": [
        "# Import Libraries\n",
        "import pandas as pd\n",
        "import numpy as np\n",
        "import seaborn as sbn\n",
        "import ast\n",
        "import matplotlib.pyplot as plt\n",
        "%matplotlib inline\n",
        "from datetime import datetime\n"
      ],
      "metadata": {
        "id": "M8Vqi-pPk-HR"
      },
      "execution_count": null,
      "outputs": []
    },
    {
      "cell_type": "markdown",
      "source": [
        "### Dataset Loading"
      ],
      "metadata": {
        "id": "3RnN4peoiCZX"
      }
    },
    {
      "cell_type": "code",
      "source": [
        "from google.colab import drive\n",
        "drive.mount('/content/drive')"
      ],
      "metadata": {
        "id": "aS6TuXRkyRbG"
      },
      "execution_count": null,
      "outputs": []
    },
    {
      "cell_type": "code",
      "source": [
        "# Load Dataset\n",
        "database=\"/content/drive/MyDrive/Colab files/Hotel Bookings.csv\"\n",
        "hotelBookingDF=pd.read_csv(database)\n",
        "database=\"/content/drive/MyDrive/Colab files/Hotel Bookings.csv\"\n",
        "hbdf=pd.read_csv(database)\n",
        "\n"
      ],
      "metadata": {
        "id": "4CkvbW_SlZ_R"
      },
      "execution_count": null,
      "outputs": []
    },
    {
      "cell_type": "markdown",
      "source": [
        "### Dataset First View"
      ],
      "metadata": {
        "id": "x71ZqKXriCWQ"
      }
    },
    {
      "cell_type": "code",
      "source": [
        "# Dataset First Look\n",
        "hotelBookingDF"
      ],
      "metadata": {
        "id": "LWNFOSvLl09H"
      },
      "execution_count": null,
      "outputs": []
    },
    {
      "cell_type": "markdown",
      "source": [
        "### Dataset Rows & Columns count"
      ],
      "metadata": {
        "id": "7hBIi_osiCS2"
      }
    },
    {
      "cell_type": "code",
      "source": [
        "# Dataset Rows & Columns count\n",
        "print(hbdf.index)\n",
        "print('\\n')\n",
        "print(hbdf.columns)"
      ],
      "metadata": {
        "id": "Kllu7SJgmLij"
      },
      "execution_count": null,
      "outputs": []
    },
    {
      "cell_type": "markdown",
      "source": [
        "### Dataset Information"
      ],
      "metadata": {
        "id": "JlHwYmJAmNHm"
      }
    },
    {
      "cell_type": "code",
      "source": [
        "# Dataset Info\n",
        "hbdf.info()"
      ],
      "metadata": {
        "id": "e9hRXRi6meOf"
      },
      "execution_count": null,
      "outputs": []
    },
    {
      "cell_type": "markdown",
      "source": [
        "#### Duplicate Values"
      ],
      "metadata": {
        "id": "35m5QtbWiB9F"
      }
    },
    {
      "cell_type": "code",
      "source": [
        "# Dataset Duplicate Value Count\n",
        "hbdf.drop_duplicates(inplace=True)\n",
        "uni_no_of_rows= hbdf.shape[0]\n",
        "# no. of unique rows= 87396\n",
        "hbdf.reset_index()"
      ],
      "metadata": {
        "id": "1sLdpKYkmox0"
      },
      "execution_count": null,
      "outputs": []
    },
    {
      "cell_type": "markdown",
      "source": [
        "#### Missing Values/Null Values"
      ],
      "metadata": {
        "id": "PoPl-ycgm1ru"
      }
    },
    {
      "cell_type": "code",
      "source": [
        "# Missing Values/Null Values Count\n",
        "null_value= hbdf.isnull()== True\n",
        "hbdf.fillna(np.nan, inplace=True)\n",
        "hbdf  # we replaced all the null values as NaN."
      ],
      "metadata": {
        "id": "GgHWkxvamxVg"
      },
      "execution_count": null,
      "outputs": []
    },
    {
      "cell_type": "code",
      "source": [
        "# Visualizing the missing values\n",
        "missing_values= hbdf.isnull().sum().sort_values(ascending=False)\n",
        "missing_values  # here we have chek for null values in individual column"
      ],
      "metadata": {
        "id": "3q5wnI3om9sJ"
      },
      "execution_count": null,
      "outputs": []
    },
    {
      "cell_type": "markdown",
      "source": [
        "### What did you know about your dataset?"
      ],
      "metadata": {
        "id": "H0kj-8xxnORC"
      }
    },
    {
      "cell_type": "markdown",
      "source": [
        "1. this data contains 109390 rows and 32 columns.\n",
        "2. all columns values have found in data types of three types such as object, float64 and int64.\n",
        "3. dataset has been found with some duplicate and null values. there is a total of 31994 duplivcate values. four columns are found with missing values.\n",
        "4. the maximum number of missing values have been found from 'company', 'agent','country' and 'children' columns. 'company' and 'children column consists of 112593 and 4 null values respectively."
      ],
      "metadata": {
        "id": "gfoNAAC-nUe_"
      }
    },
    {
      "cell_type": "markdown",
      "source": [
        "## ***2. Understanding Your Variables***"
      ],
      "metadata": {
        "id": "nA9Y7ga8ng1Z"
      }
    },
    {
      "cell_type": "code",
      "source": [
        "# Dataset Columns\n",
        "df_column= hbdf.columns\n",
        "df_column"
      ],
      "metadata": {
        "id": "j7xfkqrt5Ag5"
      },
      "execution_count": null,
      "outputs": []
    },
    {
      "cell_type": "code",
      "source": [
        "# Dataset Describe\n",
        "hbdf.describe()"
      ],
      "metadata": {
        "id": "DnOaZdaE5Q5t"
      },
      "execution_count": null,
      "outputs": []
    },
    {
      "cell_type": "markdown",
      "source": [
        "### Variables Description"
      ],
      "metadata": {
        "id": "PBTbrJXOngz2"
      }
    },
    {
      "cell_type": "markdown",
      "source": [
        "The columns and the data it represents are listed below:\n",
        "\n",
        "Hotel: H1 Resort Hotel H2=City Hotel\n",
        "\n",
        "\n",
        "\n",
        "is_cancelled: If the booking was cancelled(1) or not(0)\n",
        "\n",
        "lead time: Number of days that elapsed between the entering date of the booking into the PMS and the arrival date\n",
        "\n",
        "\n",
        "\n",
        "arrival_date_year: Year of arrival date\n",
        "\n",
        "\n",
        "arrival_date_month: Month of arrival date\n",
        "\n",
        "\n",
        "arrival_date_week_number: Week number for arrival date\n",
        "\n",
        "\n",
        "arrival dat day: Day of arrival date\n",
        "\n",
        "\n",
        "stays_in_weekend_nights: Number of weekend nights (Saturday or Sunday) the guest stayed or booked to stay at the hotel\n",
        "\n",
        "\n",
        "stays_in_week_nights: Number of week nights (Monday to Friday) the guest stayed or booked to stay at the hotel\n",
        "\n",
        "\n",
        "adults: Number of adults\n",
        "\n",
        "\n",
        "children: Number of children\n",
        "\n",
        "\n",
        "babies: Number of babies\n",
        "\n",
        "\n",
        "meal: Kind of meal opted for\n",
        "\n",
        "\n",
        "Country: country code\n",
        "\n",
        "Market_segment: which segment the customer belongs to\n",
        "\n",
        "\n",
        "\n",
        "\n",
        "Distribution channel: How the customer accessed the stay- corporate booking/Direct/TA.TO\n",
        "\n",
        "\n",
        "\n",
        "is_repeated_guest: Guest coming for first time or not\n",
        "\n",
        "\n",
        "previous cancellation: Was there a cancellation before\n",
        "\n",
        "\n",
        "\n",
        "previous bookings: Count of previous bookings\n",
        "\n",
        "\n",
        "reserved_room_type: Type of room reserved\n",
        "\n",
        "\n",
        "assigned room type: Type of room assigned\n",
        "\n",
        "\n",
        "booking changes: Count of changes made to booking\n",
        "\n",
        "\n",
        "deposit_type: Deposit type\n",
        "\n",
        "\n",
        "agent: Booked through agent\n",
        "\n",
        "\n",
        "days_in_waiting list: Number of days in waiting list\n",
        "\n",
        "\n",
        "customer_type: Type of customer\n",
        "\n",
        "\n",
        "required_car_parking: If car parking is required\n",
        "\n",
        "\n",
        "total_of_special_req: Number of additional special requirements\n",
        "\n",
        "\n",
        "reservation_status: Reservation of status\n",
        "\n",
        "\n",
        "reservation_status_date: Date of the specific status\n",
        "\n"
      ],
      "metadata": {
        "id": "aJV4KIxSnxay"
      }
    },
    {
      "cell_type": "markdown",
      "source": [
        "### Check Unique Values for each variable."
      ],
      "metadata": {
        "id": "u3PMJOP6ngxN"
      }
    },
    {
      "cell_type": "code",
      "source": [
        "# Check Unique Values for each variable.\n",
        "print(hbdf.apply(lambda col: col.unique()))   # here we describes unique value in all individual column"
      ],
      "metadata": {
        "id": "zms12Yq5n-jE"
      },
      "execution_count": null,
      "outputs": []
    },
    {
      "cell_type": "markdown",
      "source": [
        "## 3. ***Data Wrangling***"
      ],
      "metadata": {
        "id": "dauF4eBmngu3"
      }
    },
    {
      "cell_type": "markdown",
      "source": [
        "### Data Wrangling Code"
      ],
      "metadata": {
        "id": "bKJF3rekwFvQ"
      }
    },
    {
      "cell_type": "code",
      "source": [
        "# Write your code to make your dataset analysis ready.\n",
        "# to fill the NaN value in the column lets chek which column has null value\n",
        "missing_values[:4]"
      ],
      "metadata": {
        "id": "wk-9a2fpoLcV"
      },
      "execution_count": null,
      "outputs": []
    },
    {
      "cell_type": "code",
      "source": [
        "# lets chek the percentage of the null null value in each column\n",
        "percentagez_company_null = missing_values[0]/ uni_no_of_rows*100\n",
        "percentagez_company_null"
      ],
      "metadata": {
        "id": "ivF5lhuSAQVH"
      },
      "execution_count": null,
      "outputs": []
    },
    {
      "cell_type": "code",
      "source": [
        "# it is better to drop column Company as it has large no. of midding values\n",
        "hbdf.drop(['company'], axis=1, inplace= True)"
      ],
      "metadata": {
        "id": "Y3txWPnjPivM"
      },
      "execution_count": null,
      "outputs": []
    },
    {
      "cell_type": "code",
      "source": [
        "# lets chek for agent\n",
        "percentage_agent_null= missing_values[1]/ uni_no_of_rows*100\n",
        "percentage_agent_null"
      ],
      "metadata": {
        "id": "1LsWbg6jQj1N"
      },
      "execution_count": null,
      "outputs": []
    },
    {
      "cell_type": "code",
      "source": [
        "# chek for percentage null values in country col\n",
        "percentage_country_null= missing_values[2] / uni_no_of_rows*100\n",
        "percentage_country_null"
      ],
      "metadata": {
        "id": "NocPN0oVTBih"
      },
      "execution_count": null,
      "outputs": []
    },
    {
      "cell_type": "code",
      "source": [
        "# we have less values in country col, so we will replace null from 'other' as country name.\n",
        "hbdf['country'].fillna(value='others', inplace= True)\n",
        "hbdf['country'].isnull().sum()  # we rechek that column has no null value"
      ],
      "metadata": {
        "id": "qSi-Oq-KVpG_"
      },
      "execution_count": null,
      "outputs": []
    },
    {
      "cell_type": "code",
      "source": [
        "# chek the percentage of null values in children col\n",
        "hbdf['children'].fillna(value=0, inplace= True)\n",
        "hbdf['children'].isnull().sum() # we rechek thar column has no null value"
      ],
      "metadata": {
        "id": "8FBCkD8ZW2i0"
      },
      "execution_count": null,
      "outputs": []
    },
    {
      "cell_type": "code",
      "source": [
        "# lets chek whether  database having any other null value\n",
        "hbdf.isnull().sum() # as we have seen no column has null value"
      ],
      "metadata": {
        "id": "-AtuN4mZX4lD"
      },
      "execution_count": null,
      "outputs": []
    },
    {
      "cell_type": "code",
      "source": [
        "# showing the information of data to chek data type\n",
        "hbdf.info()"
      ],
      "metadata": {
        "id": "zEH83sfgZYzX"
      },
      "execution_count": null,
      "outputs": []
    },
    {
      "cell_type": "code",
      "source": [
        "# we have seen that children and agent column as datatype as float whereas it contains only int value, lets change data type as 'int64'\n",
        "hbdf[['agent']] = hbdf[['agent',]].fillna(0)\n"
      ],
      "metadata": {
        "id": "h5yw0JcYaPeQ"
      },
      "execution_count": null,
      "outputs": []
    },
    {
      "cell_type": "code",
      "source": [
        "# addition of new column\n",
        "# total stay nights\n",
        "hbdf['total_stays'] = hbdf ['stays_in_week_nights'] + hbdf['stays_in_weekend_nights']\n",
        "hbdf['total_stays']   # we have created a column for total stays in nights by adding week night and weekend nights stay"
      ],
      "metadata": {
        "id": "vVdsD9F0bRci"
      },
      "execution_count": null,
      "outputs": []
    },
    {
      "cell_type": "code",
      "source": [
        "# we ahve created a column for revenue using total stay * adr\n",
        "hbdf['revenue'] = hbdf['total_stays'] * hbdf['adr']\n",
        "hbdf['revenue']"
      ],
      "metadata": {
        "id": "qPl6gPE1dtj2"
      },
      "execution_count": null,
      "outputs": []
    },
    {
      "cell_type": "code",
      "source": [
        "# added a column to know total guest coming for each booking\n",
        "hbdf['total_guest'] = hbdf['adults'] + hbdf['children'] + hbdf['babies']\n",
        "hbdf['total_guest'].sum()"
      ],
      "metadata": {
        "id": "rJ6m5cGvfLcT"
      },
      "execution_count": null,
      "outputs": []
    },
    {
      "cell_type": "code",
      "source": [
        "# for understanding from column 'is_canceled': we will replace the value from (0, 1) to not_calceled, is canceled.\n",
        "hbdf['is_canceled'] = hbdf ['is_canceled'].replace([0,1], ['not_canceled', 'is canceled'])\n",
        "hbdf['is_canceled']"
      ],
      "metadata": {
        "id": "NNTN9HnFf4DQ"
      },
      "execution_count": null,
      "outputs": []
    },
    {
      "cell_type": "code",
      "source": [
        "# lets chek for 'is_repeated_guest' column\n",
        "hbdf['is_repeated_guest']= hbdf['is_repeated_guest'].replace([0,1],['not_repeated','repeated'])\n",
        "hbdf['is_repeated_guest']"
      ],
      "metadata": {
        "id": "1hrniqcFvRoB"
      },
      "execution_count": null,
      "outputs": []
    },
    {
      "cell_type": "markdown",
      "source": [
        "### What all manipulations have you done and insights you found?"
      ],
      "metadata": {
        "id": "MSa1f5Uengrz"
      }
    },
    {
      "cell_type": "code",
      "source": [
        "# lets hotel wose chek averall revenue\n",
        "hotel_wise_total_revenue = hbdf.groupby('hotel')['revenue'].sum()\n",
        "hotel_wise_total_revenue"
      ],
      "metadata": {
        "id": "5mLOxhRlW1B6"
      },
      "execution_count": null,
      "outputs": []
    },
    {
      "cell_type": "code",
      "source": [
        "hbdf[['hotel','revenue']]"
      ],
      "metadata": {
        "id": "SIP9kEas8b56"
      },
      "execution_count": null,
      "outputs": []
    },
    {
      "cell_type": "markdown",
      "source": [
        "we found that there were four columns containing null values, viz; company, agent, country and children.\n",
        "1. for columns those have null vakues we replaced that null values with\n",
        "zero (0), except 'country' column.\n",
        "2. for 'contry' columns we havve filled null values as 'others'.\n",
        "3. as the count for missing values for 'children' column are only 4 so we have replaced it with 0, by considering that there are no children.\n",
        "\n",
        "\n",
        "\n",
        "1. dataset also contains duplicates vales which have been droped for the sake of convenience.\n",
        "2. we have found that there were some rows in which the combining values of adults, babies and children was 0 so this simply there were no guest as 0 indicates presence of none. so there were no booking made. so, as a result we dropped the rows where combining values of babies, adults and children columns as 0.\n",
        "3. the data type of 'reservation_status_date' is changed from object data type to data type formate for better use.\n",
        "4. there are two new columns have been added, one is 'total_stay' and other is total_people'.\n"
      ],
      "metadata": {
        "id": "LbyXE7I1olp8"
      }
    },
    {
      "cell_type": "markdown",
      "source": [
        "## ***4. Data Vizualization, Storytelling & Experimenting with charts : Understand the relationships between variables***"
      ],
      "metadata": {
        "id": "GF8Ens_Soomf"
      }
    },
    {
      "cell_type": "markdown",
      "source": [
        "#### Chart - 1"
      ],
      "metadata": {
        "id": "0wOQAZs5pc--"
      }
    },
    {
      "cell_type": "code",
      "source": [
        "# Chart - 1 visualization code\n",
        "# lets creat a function which will give us chart of data respective with a column\n",
        "def get_count_from_column_bar(df, column_label):\n",
        "  df_grpd = df[column_label].value_counts()\n",
        "  df_grpd = pd.DataFrame({'index':df_grpd.index, 'count':df_grpd.values})\n",
        "  return df_grpd\n",
        "\n",
        "def plot_bat_chart_from_column(df, column_label, t1):\n",
        "  df_grpd = get_count_from_column(df, column_label)\n",
        "  fig, ax = plt.subplots(figsize=(14, 6))\n",
        "  c= ['g','r','b','c','y']\n",
        "  ax.bar(df_grpd['index'], df_grpd['count'], width = 0.4, align='edge', edgecolor='black', linewidth=4, color= c, linestyle=':')\n",
        "  plt.title(t1, bbox={'facecolor':'0.8','pad':3})\n",
        "  plt.legend()\n",
        "  plt.ylabel('Count')\n",
        "  plt.xticks(rotation=15)\n",
        "  plt.xlabel(column_label)\n",
        "  plt.show()"
      ],
      "metadata": {
        "id": "7v_ESjsspbW7"
      },
      "execution_count": null,
      "outputs": []
    },
    {
      "cell_type": "code",
      "source": [
        "def get_count_from_column(df, column_label):\n",
        "  df_grpd = df[column_label].value_count()\n",
        "  df_grpd = pd.DataFram({'index':df_grpd.index, 'count': df_grpd.values})\n",
        "  return df_grpd\n",
        "\n",
        "# plot a pie chart from grouped data\n",
        "def plot_pie_chart_from_column(df, column_label, t1, exp):\n",
        "  df_grpd = get_count_from_column(df, column_label)\n",
        "  fig, ax = plt.subplots(figsize=(14,9))\n",
        "  ax.pie(df_grpd.loc[:, 'count'], label= df_grpd.loc [:, 'index'], autopct='%1.2f%%', startangle=90, shadow=True)\n",
        "  plt.title(t1, bbox={'facecolor':'0.8','pad':3})\n",
        "  ax.axis('equal')\n",
        "  plt.legend()\n",
        "  plt.show()"
      ],
      "metadata": {
        "id": "7psmFYT4GRwX"
      },
      "execution_count": null,
      "outputs": []
    },
    {
      "cell_type": "code",
      "source": [
        "expl= [0.05, 0.05]\n",
        "hotel_booking_percentage = hbdf['hotel'].value_counts(normalize=True) * 100\n",
        "plt.pie(hotel_booking_percentage, labels=hotel_booking_percentage.index, explode=expl, autopct='%1.1f%%')\n",
        "plt.title('Booking percentage of Hotel by name')\n",
        "plt.axis('equal')\n",
        "plt.show()\n"
      ],
      "metadata": {
        "id": "hxpq_J6pM7Xw"
      },
      "execution_count": null,
      "outputs": []
    },
    {
      "cell_type": "markdown",
      "source": [
        "##### 1. Why did you pick the specific chart?"
      ],
      "metadata": {
        "id": "K5QZ13OEpz2H"
      }
    },
    {
      "cell_type": "markdown",
      "source": [
        "to present about the data that which hotel has been observed more bookings."
      ],
      "metadata": {
        "id": "XESiWehPqBRc"
      }
    },
    {
      "cell_type": "markdown",
      "source": [
        "##### 2. What is/are the insight(s) found from the chart?"
      ],
      "metadata": {
        "id": "lQ7QKXXCp7Bj"
      }
    },
    {
      "cell_type": "markdown",
      "source": [
        "it is observerd that city hotel is more prefered for stay rather than resort hotel. Out of total booking the booking for city hotle has 61.12 % and that is for resort hotel is  38.9%.\n",
        "\n"
      ],
      "metadata": {
        "id": "C_j1G7yiqdRP"
      }
    },
    {
      "cell_type": "markdown",
      "source": [
        "##### 3. Will the gained insights help creating a positive business impact?\n",
        "Are there any insights that lead to negative growth? Justify with specific reason."
      ],
      "metadata": {
        "id": "448CDAPjqfQr"
      }
    },
    {
      "cell_type": "markdown",
      "source": [
        "yes, this data makes positive impact\n",
        "City hotel: provided nore dervices to attract more guests to increase revenue.\n",
        "Resort Hotel: find soluntion to attract guest and find what city hotel did to attract people."
      ],
      "metadata": {
        "id": "3cspy4FjqxJW"
      }
    },
    {
      "cell_type": "markdown",
      "source": [
        "#### Chart - 2"
      ],
      "metadata": {
        "id": "KSlN3yHqYklG"
      }
    },
    {
      "cell_type": "code",
      "source": [
        "# Chart - 2 visualization code\n",
        "exp4 = [0, 0.2]\n",
        "cancellation_volume = hbdf['is_canceled'].value_counts()\n",
        "plt.pie(cancellation_volume, labels=cancellation_volume.index, explode=exp4, autopct='%1.1f%%')\n",
        "plt.title('Cancellation volume of Hotel')\n",
        "plt.axis('equal')\n",
        "plt.show()\n"
      ],
      "metadata": {
        "id": "R4YgtaqtYklH"
      },
      "execution_count": null,
      "outputs": []
    },
    {
      "cell_type": "markdown",
      "source": [
        "##### 1. Why did you pick the specific chart?"
      ],
      "metadata": {
        "id": "t6dVpIINYklI"
      }
    },
    {
      "cell_type": "markdown",
      "source": [
        "to represent how much booking get calceled and how much gets successful out of total booking incurred. Here we can  see about 72.5 % booking get successful."
      ],
      "metadata": {
        "id": "5aaW0BYyYklI"
      }
    },
    {
      "cell_type": "markdown",
      "source": [
        "##### 2. What is/are the insight(s) found from the chart?"
      ],
      "metadata": {
        "id": "ijmpgYnKYklI"
      }
    },
    {
      "cell_type": "markdown",
      "source": [
        "the booking cancellation is found about 27.5 %."
      ],
      "metadata": {
        "id": "PSx9atu2YklI"
      }
    },
    {
      "cell_type": "markdown",
      "source": [
        "##### 3. Will the gained insights help creating a positive business impact?\n",
        "Are there any insights that lead to negative growth? Justify with specific reason."
      ],
      "metadata": {
        "id": "-JiQyfWJYklI"
      }
    },
    {
      "cell_type": "markdown",
      "source": [
        "yes almost 1/4 th booking are observed tends to get caancelled, we need to find the reason and impact has to creat to overcome this cancellation portion."
      ],
      "metadata": {
        "id": "BcBbebzrYklV"
      }
    },
    {
      "cell_type": "markdown",
      "source": [
        "#### Chart - 3"
      ],
      "metadata": {
        "id": "EM7whBJCYoAo"
      }
    },
    {
      "cell_type": "code",
      "source": [
        "# Chart - 3 visualization code\n",
        "channel_volume = hbdf['distribution_channel'].value_counts()\n",
        "plt.bar(channel_volume.index, channel_volume)\n",
        "plt.title('Distribution Channel Volume')\n",
        "plt.xlabel('Distribution Channel')\n",
        "plt.ylabel('Volume')\n",
        "plt.xticks(rotation=45)\n",
        "plt.show()"
      ],
      "metadata": {
        "id": "t6GMdE67YoAp"
      },
      "execution_count": null,
      "outputs": []
    },
    {
      "cell_type": "markdown",
      "source": [
        "##### 1. Why did you pick the specific chart?"
      ],
      "metadata": {
        "id": "fge-S5ZAYoAp"
      }
    },
    {
      "cell_type": "markdown",
      "source": [
        "to show from which field we have found more bookings."
      ],
      "metadata": {
        "id": "5dBItgRVYoAp"
      }
    },
    {
      "cell_type": "markdown",
      "source": [
        "##### 2. What is/are the insight(s) found from the chart?"
      ],
      "metadata": {
        "id": "85gYPyotYoAp"
      }
    },
    {
      "cell_type": "markdown",
      "source": [
        "from here ot os claerly seen that from TA/TO maximum/most booking are made. so if we put more efforts to encourage them for bookng with us significant volume of booking may increase."
      ],
      "metadata": {
        "id": "4jstXR6OYoAp"
      }
    },
    {
      "cell_type": "markdown",
      "source": [
        "##### 3. Will the gained insights help creating a positive business impact?\n",
        "Are there any insights that lead to negative growth? Justify with specific reason."
      ],
      "metadata": {
        "id": "RoGjAbkUYoAp"
      }
    },
    {
      "cell_type": "markdown",
      "source": [
        "yes, we can say efforts taken on channels 'GDS' and 'undefined' are not yilding much more so, promotional cost overthem, if any, shall be reduced."
      ],
      "metadata": {
        "id": "zfJ8IqMcYoAp"
      }
    },
    {
      "cell_type": "markdown",
      "source": [
        "#### Chart - 4"
      ],
      "metadata": {
        "id": "4Of9eVA-YrdM"
      }
    },
    {
      "cell_type": "code",
      "source": [
        "# Chart - 4 visualization code\n",
        "exp2 = [0.2,0,0,0,0,0,0,0,0,0,0,0.1]\n",
        "month_booking_count = hbdf['arrival_date_month'].value_counts()\n",
        "plt.pie(month_booking_count, labels=month_booking_count.index, explode=exp2, autopct='%1.1f%%')\n",
        "plt.title('Month-wise Booking')\n",
        "plt.axis('equal')\n",
        "plt.show()"
      ],
      "metadata": {
        "id": "irlUoxc8YrdO"
      },
      "execution_count": null,
      "outputs": []
    },
    {
      "cell_type": "markdown",
      "source": [
        "##### 1. Why did you pick the specific chart?"
      ],
      "metadata": {
        "id": "iky9q4vBYrdO"
      }
    },
    {
      "cell_type": "markdown",
      "source": [
        "to represent month wise booking and to find in which month the maximum booking has been observed."
      ],
      "metadata": {
        "id": "aJRCwT6DYrdO"
      }
    },
    {
      "cell_type": "markdown",
      "source": [
        "##### 2. What is/are the insight(s) found from the chart?"
      ],
      "metadata": {
        "id": "F6T5p64dYrdO"
      }
    },
    {
      "cell_type": "markdown",
      "source": [
        "from this we can see that agust month has found with maximum no. of booking. we can also concluded that after august there is large drop in booking upto januaary. again grom january to august booking goes on increasing."
      ],
      "metadata": {
        "id": "Xx8WAJvtYrdO"
      }
    },
    {
      "cell_type": "markdown",
      "source": [
        "##### 3. Will the gained insights help creating a positive business impact?\n",
        "Are there any insights that lead to negative growth? Justify with specific reason."
      ],
      "metadata": {
        "id": "y-Ehk30pYrdP"
      }
    },
    {
      "cell_type": "markdown",
      "source": [
        "yes, it is gained that from januaru to august booking goes on increasing."
      ],
      "metadata": {
        "id": "jLNxxz7MYrdP"
      }
    },
    {
      "cell_type": "markdown",
      "source": [
        "#### Chart - 5"
      ],
      "metadata": {
        "id": "bamQiAODYuh1"
      }
    },
    {
      "cell_type": "code",
      "source": [
        "# Chart - 5 visualization code\n",
        "exp3 = [0, 0.3]\n",
        "guest_repeating_count = hbdf['is_repeated_guest'].value_counts()\n",
        "plt.pie(guest_repeating_count, labels=guest_repeating_count.index, explode=exp3, autopct='%1.1f%%')\n",
        "plt.title('Guest Repeating Status')\n",
        "plt.axis('equal')\n",
        "plt.show()\n"
      ],
      "metadata": {
        "id": "TIJwrbroYuh3"
      },
      "execution_count": null,
      "outputs": []
    },
    {
      "cell_type": "markdown",
      "source": [
        "##### 1. Why did you pick the specific chart?"
      ],
      "metadata": {
        "id": "QHF8YVU7Yuh3"
      }
    },
    {
      "cell_type": "markdown",
      "source": [
        "to show that is previously visited customer do visit again to our hotel."
      ],
      "metadata": {
        "id": "dcxuIMRPYuh3"
      }
    },
    {
      "cell_type": "markdown",
      "source": [
        "##### 2. What is/are the insight(s) found from the chart?"
      ],
      "metadata": {
        "id": "GwzvFGzlYuh3"
      }
    },
    {
      "cell_type": "markdown",
      "source": [
        "it is came to know that, very few customers i.e, only 3.9 %,  do visit again to our hotel. we have to chek that is they orefering other hotel, then measures has to be taken on. Or, if they are not coming for journey again."
      ],
      "metadata": {
        "id": "uyqkiB8YYuh3"
      }
    },
    {
      "cell_type": "markdown",
      "source": [
        "##### 3. Will the gained insights help creating a positive business impact?\n",
        "Are there any insights that lead to negative growth? Justify with specific reason."
      ],
      "metadata": {
        "id": "qYpmQ266Yuh3"
      }
    },
    {
      "cell_type": "markdown",
      "source": [
        "yes, it shows that we have to be ready to target new freash customers beacause previous customers willl againg visit is not that much certain."
      ],
      "metadata": {
        "id": "_WtzZ_hCYuh4"
      }
    },
    {
      "cell_type": "markdown",
      "source": [
        "#### Chart - 6"
      ],
      "metadata": {
        "id": "OH-pJp9IphqM"
      }
    },
    {
      "cell_type": "code",
      "source": [
        "# Chart - 6 visualization code\n",
        "group_by_hotel= hbdf.groupby('hotel')"
      ],
      "metadata": {
        "id": "kuRf4wtuphqN"
      },
      "execution_count": null,
      "outputs": []
    },
    {
      "cell_type": "code",
      "source": [
        " # Import Libraries again as connection was timed out\n",
        "import pandas as pd\n",
        "import numpy as np\n",
        "import seaborn as sbn\n",
        "import ast\n",
        "import matplotlib.pyplot as plt\n",
        "%matplotlib inline\n",
        "from datetime import datetime"
      ],
      "metadata": {
        "id": "AJqW_YnRpUsv"
      },
      "execution_count": null,
      "outputs": []
    },
    {
      "cell_type": "code",
      "source": [
        "# group by hotel adr\n",
        "highest_adr= group_by_hotel['adr'].mean().reset_index()\n",
        "# set plot size\n",
        "# set x, y axix and title lable\n",
        "plt.xlabel('hotel type')\n",
        "plt.ylabel('ADR')\n",
        "plt.title('hotel ADR as per its type', fontsize=15)\n",
        "# plot the graph\n",
        "sbn.barplot(x=highest_adr['hotel'], y=highest_adr['adr'])"
      ],
      "metadata": {
        "id": "CR5t8HFWizsm"
      },
      "execution_count": null,
      "outputs": []
    },
    {
      "cell_type": "markdown",
      "source": [
        "##### 1. Why did you pick the specific chart?"
      ],
      "metadata": {
        "id": "bbFf2-_FphqN"
      }
    },
    {
      "cell_type": "markdown",
      "source": [
        "To show the average adr of hotel by its type in a clear and feaseable manner."
      ],
      "metadata": {
        "id": "loh7H2nzphqN"
      }
    },
    {
      "cell_type": "markdown",
      "source": [
        "##### 2. What is/are the insight(s) found from the chart?"
      ],
      "metadata": {
        "id": "_ouA3fa0phqN"
      }
    },
    {
      "cell_type": "markdown",
      "source": [
        "City hotel has been found with highest adr. this means city hotel will generate mote revenue as compared with resort hotel, as more adr more revenue."
      ],
      "metadata": {
        "id": "VECbqPI7phqN"
      }
    },
    {
      "cell_type": "markdown",
      "source": [
        "##### 3. Will the gained insights help creating a positive business impact?\n",
        "Are there any insights that lead to negative growth? Justify with specific reason."
      ],
      "metadata": {
        "id": "Seke61FWphqN"
      }
    },
    {
      "cell_type": "markdown",
      "source": [
        "yes, if we are wishfulll to collect more revenue from resort hotel then we can put more errorts to increase its adr."
      ],
      "metadata": {
        "id": "DW4_bGpfphqN"
      }
    },
    {
      "cell_type": "markdown",
      "source": [
        "#### Chart - 7"
      ],
      "metadata": {
        "id": "PIIx-8_IphqN"
      }
    },
    {
      "cell_type": "code",
      "source": [
        "# Chart - 7 visualization code\n",
        "# lets group data by adr, total stay and hotel type to bring some insights\n",
        "adr_and_stay= hbdf.groupby(['total_stays','adr','hotel']).agg('count').reset_index()\n",
        "adr_and_stay= adr_and_stay.iloc[ : ,:3]\n",
        "adr_and_stay=adr_and_stay.rename({'is_canceled':\"number of stays\"})\n",
        "adr_and_stay= adr_and_stay[:18000]\n",
        "adr_and_stay"
      ],
      "metadata": {
        "id": "lqAIGUfyphqO"
      },
      "execution_count": null,
      "outputs": []
    },
    {
      "cell_type": "code",
      "source": [
        " # plotting the graph in line graph\n",
        " plt.figure(figsize=(14,6))\n",
        " sbn.lineplot(x='total_stays', y='adr', data= adr_and_stay)\n",
        " plt.xlabel('total stays')\n",
        " plt.ylabel('ADR')\n",
        "\n",
        " plt.title('Relationship between adr and total stays', fontsize=15)"
      ],
      "metadata": {
        "id": "Qpjj8mH2ABC9"
      },
      "execution_count": null,
      "outputs": []
    },
    {
      "cell_type": "markdown",
      "source": [
        "##### 1. Why did you pick the specific chart?"
      ],
      "metadata": {
        "id": "t27r6nlMphqO"
      }
    },
    {
      "cell_type": "code",
      "source": [],
      "metadata": {
        "id": "MoOPEa1S6Tft"
      },
      "execution_count": null,
      "outputs": []
    },
    {
      "cell_type": "markdown",
      "source": [
        "we have select this graph to visualy illustrates how the adr affects on business i.e how customers staying behaviour changes with adr rating."
      ],
      "metadata": {
        "id": "iv6ro40sphqO"
      }
    },
    {
      "cell_type": "code",
      "source": [],
      "metadata": {
        "id": "-0rRoL3m6SUa"
      },
      "execution_count": null,
      "outputs": []
    },
    {
      "cell_type": "markdown",
      "source": [
        "##### 2. What is/are the insight(s) found from the chart?"
      ],
      "metadata": {
        "id": "r2jJGEOYphqO"
      }
    },
    {
      "cell_type": "markdown",
      "source": [
        "no some sound conclusions we can drag from this relationaship of adr and total stays, but from graph we have found that when adr increases (upto 120) total stays also increases (1) and then after there is no any major changes in adr found affecting the total stays because at constant adr 120 there is still increase in total stays upto 6 and then further adr found declining with incresing total stays."
      ],
      "metadata": {
        "id": "Po6ZPi4hphqO"
      }
    },
    {
      "cell_type": "markdown",
      "source": [
        "##### 3. Will the gained insights help creating a positive business impact?\n",
        "Are there any insights that lead to negative growth? Justify with specific reason."
      ],
      "metadata": {
        "id": "b0JNsNcRphqO"
      }
    },
    {
      "cell_type": "markdown",
      "source": [
        "no some sound conclusions we can drag from this relationaship of adr and total stays"
      ],
      "metadata": {
        "id": "xvSq8iUTphqO"
      }
    },
    {
      "cell_type": "markdown",
      "source": [
        "#### Chart - 8"
      ],
      "metadata": {
        "id": "BZR9WyysphqO"
      }
    },
    {
      "cell_type": "code",
      "source": [
        "# Chart - 8 visualization code\n",
        "# visualization for car parking space required\n",
        "hbdf['required_car_parking_spaces'].value_counts().plot.pie(explode=[0.5]*5, autopct= '%1.1f%%')\n",
        "hbdf['required_car_parking_spaces'].value_counts().index\n",
        "plt.title('how many costomers wants car parking space')\n",
        "plt.legend()"
      ],
      "metadata": {
        "id": "TdPTWpAVphqO"
      },
      "execution_count": null,
      "outputs": []
    },
    {
      "cell_type": "markdown",
      "source": [
        "##### 1. Why did you pick the specific chart?"
      ],
      "metadata": {
        "id": "jj7wYXLtphqO"
      }
    },
    {
      "cell_type": "markdown",
      "source": [
        "to make it clear with visual illustration that how much customers pprefer car parking space for safe vehicle parking."
      ],
      "metadata": {
        "id": "Ob8u6rCTphqO"
      }
    },
    {
      "cell_type": "markdown",
      "source": [
        "##### 2. What is/are the insight(s) found from the chart?"
      ],
      "metadata": {
        "id": "eZrbJ2SmphqO"
      }
    },
    {
      "cell_type": "markdown",
      "source": [
        "From the pie chart we have clear that only 8.3% cutomers wants the car parking spces for parking their vehicles and remainig 91.7 % customers does not require car parking space may  be beacuase of this either they park at their own risk or they visit hotel with aid of local transport facilities."
      ],
      "metadata": {
        "id": "mZtgC_hjphqO"
      }
    },
    {
      "cell_type": "markdown",
      "source": [
        "##### 3. Will the gained insights help creating a positive business impact?\n",
        "Are there any insights that lead to negative growth? Justify with specific reason."
      ],
      "metadata": {
        "id": "rFu4xreNphqO"
      }
    },
    {
      "cell_type": "markdown",
      "source": [
        "yes, from the graph we have clear that no much more customers (upto 8.3 %) demand or ask or requires car parking spaces so according only that much spaces we can kept for parking amenities and  if there is any remailnig lan or space is available then thet can be used for gardening or recreational or for any other business expansion perspective."
      ],
      "metadata": {
        "id": "ey_0qi68phqO"
      }
    },
    {
      "cell_type": "markdown",
      "source": [
        "#### Chart - 9"
      ],
      "metadata": {
        "id": "YJ55k-q6phqO"
      }
    },
    {
      "cell_type": "code",
      "source": [
        "# Chart - 9 visualization code\n",
        "# visualisation for preferred meal type\n",
        "plt.figure(figsize=(18,10))\n",
        "sbn.countplot(x= hbdf['meal'])\n",
        "plt.xlabel('meal type', fontsize= 15)\n",
        "plt.ylabel('count', fontsize= 15)\n",
        "\n",
        "plt.title('preferred meal type', fontsize=15)"
      ],
      "metadata": {
        "id": "B2aS4O1ophqO"
      },
      "execution_count": null,
      "outputs": []
    },
    {
      "cell_type": "markdown",
      "source": [
        "##### 1. Why did you pick the specific chart?"
      ],
      "metadata": {
        "id": "gCFgpxoyphqP"
      }
    },
    {
      "cell_type": "markdown",
      "source": [
        "to make visual illustration to make it clear that which meal type is preferred most by the customers."
      ],
      "metadata": {
        "id": "TVxDimi2phqP"
      }
    },
    {
      "cell_type": "markdown",
      "source": [
        "##### 2. What is/are the insight(s) found from the chart?"
      ],
      "metadata": {
        "id": "OVtJsKN_phqQ"
      }
    },
    {
      "cell_type": "markdown",
      "source": [
        "from the graph it is clear that meal type BB is most preferred by the customeres followed by the meal type SC & HB, meal type FB is the least preferred meal type."
      ],
      "metadata": {
        "id": "ngGi97qjphqQ"
      }
    },
    {
      "cell_type": "markdown",
      "source": [
        "##### 3. Will the gained insights help creating a positive business impact?\n",
        "Are there any insights that lead to negative growth? Justify with specific reason."
      ],
      "metadata": {
        "id": "lssrdh5qphqQ"
      }
    },
    {
      "cell_type": "markdown",
      "source": [
        "yes, from this graph it is clear that the most preferred meal type is 'BB' so hotel management has to ready with this meal type to serve the customers to make them satistified with their loved one food."
      ],
      "metadata": {
        "id": "tBpY5ekJphqQ"
      }
    },
    {
      "cell_type": "markdown",
      "source": [
        "#### Chart - 10"
      ],
      "metadata": {
        "id": "U2RJ9gkRphqQ"
      }
    },
    {
      "cell_type": "code",
      "source": [
        "# Chart - 10 visualization code\n",
        "# stay length in hotels by its type\n",
        "stay= hbdf.groupby(['total_stays','hotel']).agg('count').reset_index()\n",
        "# takingg only first three columns\n",
        "stay= stay.iloc[:,:3]\n",
        "#renaiming the columns\n",
        "stay= stay.rename(columns={'is_canceled':'number of stays cancelled'})\n",
        "# plotting a bar graph\n",
        "plt.figure(figsize=(20,10))\n",
        "sbn.barplot(x='total_stays', y='number of stays cancelled', hue='hotel', data= stay)\n",
        "plt.title('optimal stay length in both hotel types', fontsize=15)\n",
        "plt.xlabel('total stay in days', fontsize= 15)\n",
        "plt.ylabel('count of stays cancelled', fontsize= 15)"
      ],
      "metadata": {
        "id": "GM7a4YP4phqQ"
      },
      "execution_count": null,
      "outputs": []
    },
    {
      "cell_type": "markdown",
      "source": [
        "##### 1. Why did you pick the specific chart?"
      ],
      "metadata": {
        "id": "1M8mcRywphqQ"
      }
    },
    {
      "cell_type": "markdown",
      "source": [
        "to shaw the cancellation behavior of the customers as stay length increases."
      ],
      "metadata": {
        "id": "8agQvks0phqQ"
      }
    },
    {
      "cell_type": "markdown",
      "source": [
        "##### 2. What is/are the insight(s) found from the chart?"
      ],
      "metadata": {
        "id": "tgIPom80phqQ"
      }
    },
    {
      "cell_type": "markdown",
      "source": [
        "from the graph it is clear that for upto 5 days for the city hotels there are more chances of calcellation, means people visiting city hotel would prefere a stay of maximum 5 ddays and when stay is increasing more than 5 days theb resort hotels seems to be preferred for stays as it has found less caancellation as compared with city hotel. in nut shell we can say that when stay length is upto 5 days then more cancellation is observed for city hotel and when stay length goes beyod 5 days then cancellation tendancy found for resort hotel."
      ],
      "metadata": {
        "id": "Qp13pnNzphqQ"
      }
    },
    {
      "cell_type": "markdown",
      "source": [
        "##### 3. Will the gained insights help creating a positive business impact?\n",
        "Are there any insights that lead to negative growth? Justify with specific reason."
      ],
      "metadata": {
        "id": "JMzcOPDDphqR"
      }
    },
    {
      "cell_type": "markdown",
      "source": [
        "from this graph we have clear that for city hotels booking for upto 5 days may be observed have been get cancelled then to make revenue if this condition occurs hotel management has to make some provisional contingency bookings so that no any space remsin vacant.  "
      ],
      "metadata": {
        "id": "R4Ka1PC2phqR"
      }
    },
    {
      "cell_type": "markdown",
      "source": [
        "#### Chart - 11"
      ],
      "metadata": {
        "id": "x-EpHcCOp1ci"
      }
    },
    {
      "cell_type": "code",
      "source": [
        "# Chart - 11 visualization code\n",
        "# plotting histogram\n",
        "hbdf.hist(figsize=(24,18))\n",
        "plt.show()"
      ],
      "metadata": {
        "id": "mAQTIvtqp1cj"
      },
      "execution_count": null,
      "outputs": []
    },
    {
      "cell_type": "markdown",
      "source": [
        "##### 1. Why did you pick the specific chart?"
      ],
      "metadata": {
        "id": "X_VqEhTip1ck"
      }
    },
    {
      "cell_type": "markdown",
      "source": [
        "to understand the data in a clear way. it is used to summarise the discrete or continued data which is measured on an interval scale."
      ],
      "metadata": {
        "id": "-vsMzt_np1ck"
      }
    },
    {
      "cell_type": "markdown",
      "source": [
        "##### 2. What is/are the insight(s) found from the chart?"
      ],
      "metadata": {
        "id": "8zGJKyg5p1ck"
      }
    },
    {
      "cell_type": "markdown",
      "source": [
        "insights found from the above histogram are as follows:\n",
        "1. we can see that the maximum number of guests have visited in year 2016.\n",
        "2. maximum number of arrivals have been observed in week 30.\n",
        "3. maximum arrivals founds at the end of the month.\n",
        "4. maximum guests viting are observed without accompanied by children.\n",
        "5. very few customers requires space for car parking.\n"
      ],
      "metadata": {
        "id": "ZYdMsrqVp1ck"
      }
    },
    {
      "cell_type": "markdown",
      "source": [
        "##### 3. Will the gained insights help creating a positive business impact?\n",
        "Are there any insights that lead to negative growth? Justify with specific reason."
      ],
      "metadata": {
        "id": "PVzmfK_Ep1ck"
      }
    },
    {
      "cell_type": "markdown",
      "source": [
        "Just histogram can not define aspects impacting business. it is done just to see the distribution of the column data over the dataset."
      ],
      "metadata": {
        "id": "druuKYZpp1ck"
      }
    },
    {
      "cell_type": "markdown",
      "source": [
        "#### Chart - 12"
      ],
      "metadata": {
        "id": "n3dbpmDWp1ck"
      }
    },
    {
      "cell_type": "code",
      "source": [
        "# Chart - 12 visualization code\n",
        "# most prefered room type\n",
        "plt.figure(figsize=(20,10))\n",
        "sbn.countplot(x=hbdf['assigned_room_type'], order=hbdf['assigned_room_type'].value_counts().index)\n",
        "plt.title('preferred room type', fontsize=15)\n",
        "plt.xlabel('room type', fontsize= 15)\n",
        "plt.ylabel('count of room type', fontsize= 15)\n",
        "\n"
      ],
      "metadata": {
        "id": "bwevp1tKp1ck"
      },
      "execution_count": null,
      "outputs": []
    },
    {
      "cell_type": "markdown",
      "source": [
        "##### 1. Why did you pick the specific chart?"
      ],
      "metadata": {
        "id": "ylSl6qgtp1ck"
      }
    },
    {
      "cell_type": "markdown",
      "source": [
        "to make visual understanding of which room type is most prefered by customeres.\n"
      ],
      "metadata": {
        "id": "m2xqNkiQp1ck"
      }
    },
    {
      "cell_type": "markdown",
      "source": [
        "##### 2. What is/are the insight(s) found from the chart?"
      ],
      "metadata": {
        "id": "ZWILFDl5p1ck"
      }
    },
    {
      "cell_type": "markdown",
      "source": [
        "the most prefered room type is A followed by room type D, E, F, G, C, B, H, I, K, P, L"
      ],
      "metadata": {
        "id": "x-lUsV2mp1ck"
      }
    },
    {
      "cell_type": "markdown",
      "source": [
        "##### 3. Will the gained insights help creating a positive business impact?\n",
        "Are there any insights that lead to negative growth? Justify with specific reason."
      ],
      "metadata": {
        "id": "M7G43BXep1ck"
      }
    },
    {
      "cell_type": "markdown",
      "source": [
        "from this graph it is clear that room type A & D are beiing most preferable by the customers so hotel mangement has to keep adequate availibity of this room types beacause if this room type will not available then customers may go to anither hotel. in future if hotel going to build any more number of rooms them type A & D room should be build in maximum numbe."
      ],
      "metadata": {
        "id": "5wwDJXsLp1cl"
      }
    },
    {
      "cell_type": "markdown",
      "source": [
        "#### Chart - 13"
      ],
      "metadata": {
        "id": "Ag9LCva-p1cl"
      }
    },
    {
      "cell_type": "code",
      "source": [
        "# Chart - 13 visualization code\n",
        "#correlation heat map\n",
        "plt.figure(figsize=(18,10))\n",
        "sbn.heatmap(hbdf.corr(), annot=True)\n",
        "plt.title('co-relation map', fontsize=15)"
      ],
      "metadata": {
        "id": "EUfxeq9-p1cl"
      },
      "execution_count": null,
      "outputs": []
    },
    {
      "cell_type": "markdown",
      "source": [
        "##### 1. Why did you pick the specific chart?"
      ],
      "metadata": {
        "id": "E6MkPsBcp1cl"
      }
    },
    {
      "cell_type": "markdown",
      "source": [
        "to understad the corelation between different variable of the data set."
      ],
      "metadata": {
        "id": "V22bRsFWp1cl"
      }
    },
    {
      "cell_type": "markdown",
      "source": [
        "##### 2. What is/are the insight(s) found from the chart?"
      ],
      "metadata": {
        "id": "2cELzS2fp1cl"
      }
    },
    {
      "cell_type": "markdown",
      "source": [
        "numerous insights we can conclude from this correlation heat map by observing the value of coefficient of carrelation from the graph."
      ],
      "metadata": {
        "id": "ozQPc2_Ip1cl"
      }
    },
    {
      "cell_type": "markdown",
      "source": [
        "##### 3. Will the gained insights help creating a positive business impact?\n",
        "Are there any insights that lead to negative growth? Justify with specific reason."
      ],
      "metadata": {
        "id": "3MPXvC8up1cl"
      }
    },
    {
      "cell_type": "markdown",
      "source": [
        "Answer Here"
      ],
      "metadata": {
        "id": "GL8l1tdLp1cl"
      }
    },
    {
      "cell_type": "markdown",
      "source": [
        "#### Chart - 14 - Correlation Heatmap"
      ],
      "metadata": {
        "id": "NC_X3p0fY2L0"
      }
    },
    {
      "cell_type": "code",
      "source": [],
      "metadata": {
        "id": "xyC9zolEZNRQ"
      },
      "execution_count": null,
      "outputs": []
    },
    {
      "cell_type": "markdown",
      "source": [
        "##### 1. Why did you pick the specific chart?"
      ],
      "metadata": {
        "id": "UV0SzAkaZNRQ"
      }
    },
    {
      "cell_type": "markdown",
      "source": [
        "Answer Here."
      ],
      "metadata": {
        "id": "DVPuT8LYZNRQ"
      }
    },
    {
      "cell_type": "markdown",
      "source": [
        "##### 2. What is/are the insight(s) found from the chart?"
      ],
      "metadata": {
        "id": "YPEH6qLeZNRQ"
      }
    },
    {
      "cell_type": "markdown",
      "source": [
        "Answer Here"
      ],
      "metadata": {
        "id": "bfSqtnDqZNRR"
      }
    },
    {
      "cell_type": "markdown",
      "source": [
        "#### Chart - 15 - Pair Plot"
      ],
      "metadata": {
        "id": "q29F0dvdveiT"
      }
    },
    {
      "cell_type": "code",
      "source": [
        "# Pair Plot visualization code"
      ],
      "metadata": {
        "id": "o58-TEIhveiU"
      },
      "execution_count": null,
      "outputs": []
    },
    {
      "cell_type": "markdown",
      "source": [
        "##### 1. Why did you pick the specific chart?"
      ],
      "metadata": {
        "id": "EXh0U9oCveiU"
      }
    },
    {
      "cell_type": "markdown",
      "source": [
        "Answer Here."
      ],
      "metadata": {
        "id": "eMmPjTByveiU"
      }
    },
    {
      "cell_type": "markdown",
      "source": [
        "##### 2. What is/are the insight(s) found from the chart?"
      ],
      "metadata": {
        "id": "22aHeOlLveiV"
      }
    },
    {
      "cell_type": "markdown",
      "source": [
        "Answer Here"
      ],
      "metadata": {
        "id": "uPQ8RGwHveiV"
      }
    },
    {
      "cell_type": "markdown",
      "source": [
        "## **5. Solution to Business Objective**"
      ],
      "metadata": {
        "id": "JcMwzZxoAimU"
      }
    },
    {
      "cell_type": "markdown",
      "source": [
        "#### What do you suggest the client to achieve Business Objective ?\n",
        "Explain Briefly."
      ],
      "metadata": {
        "id": "8G2x9gOozGDZ"
      }
    },
    {
      "cell_type": "markdown",
      "source": [
        "bussiness objectives attined as follows:\n",
        "1. for hotel bussiness to flourish few things which which we need to consider is high revenue generation , customer satisfication and employee retention.\n",
        "2. we can keep client aware that in which month, it has to be ready to serve  maximum no. of guests.\n",
        "3. from which channel maximum no. of customres are visiting is islo important to attract more bussiness.\n",
        "4. we can suggest client that he has to put more efforts on city hotel beacause city hotels are onbserved for more booking rather than resort hotel.\n",
        "5. the revisiting customers are found very less in number. so, focus should be kept on new customers to attract them more and more.\n",
        "6. we can enhance the revenue by taking the knowldgw of the which type of room is most prefered and in which month there is maximum visitis of customers.\n",
        "7. we also have founded arouses preferrences in different categories like most prefered meal type, optimal stay length , facilities required for customers like car parking etc. so, all these insights ultimatelty addd to have a better planning for growth and higher revenue.\n",
        "8. periodically throw some offers to attract the old customers as well as new to increase the total stays and then by revenue."
      ],
      "metadata": {
        "id": "pASKb0qOza21"
      }
    },
    {
      "cell_type": "markdown",
      "source": [
        "# **Conclusion**"
      ],
      "metadata": {
        "id": "gCX9965dhzqZ"
      }
    },
    {
      "cell_type": "markdown",
      "source": [
        "1. City hotels are more prefered by customers rather than resort hotel and so city hotels gives more revenue & profit.\n",
        "2. Maximum number of bookins are obsereved in jUly and August months as compaerd with rest of the time of the year.\n",
        "3. Around 1/4 th booking got cancelled and this cancellation is observed from city hotels reason may be due to change in tour plan of customer. Maximum calcellation is observed for city hotels.\n",
        "4. large quantum of bussiness is given by TA/TO channels. so, this cahnnels should be promoted to drag more bussiness.\n",
        "5. Most prefered room type is 'A' amongts the travellers followed by type 'D'.\n",
        "6. Maximum number of guests are observed for stay of as long as 4-5 days.\n",
        "7. The length of stay decreases as ADR increses probabaly to reduce the cost. City hotels have more ADR as compared to resort hotel.\n",
        "8. only 3.9% customers are found as repeatiing or freqently service taking taking customers.\n",
        "9.  Only 8.3% customers requires car parkin amenity.\n",
        "10. Most prefered meal type among the customers is \"BB\".\n"
      ],
      "metadata": {
        "id": "Fjb1IsQkh3yE"
      }
    },
    {
      "cell_type": "markdown",
      "source": [
        "### ***Hurrah! You have successfully completed your EDA Capstone Project !!!***"
      ],
      "metadata": {
        "id": "gIfDvo9L0UH2"
      }
    }
  ]
}